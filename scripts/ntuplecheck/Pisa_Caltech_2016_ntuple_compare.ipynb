{
 "cells": [
  {
   "cell_type": "code",
   "execution_count": 1,
   "metadata": {},
   "outputs": [
    {
     "name": "stdout",
     "output_type": "stream",
     "text": [
      "Welcome to JupyROOT 6.22/02\n"
     ]
    }
   ],
   "source": [
    "#Nan Lu, Created on December 01, 2019 for CMS DAS School at Peking University.\n",
    "\n",
    "from root_numpy import root2array, tree2array, array2tree\n",
    "import csv\n",
    "import numpy as np\n",
    "import ROOT as rt\n",
    "from glob import glob\n",
    "from ROOT import TCanvas, TGraphErrors, TGraph, TPaveText,TLegend, TStyle, TColor,TF1\n",
    "from ROOT import gROOT\n",
    "from array import array\n",
    "import pandas as pd\n",
    "import os, sys\n",
    "from matplotlib import pyplot as plt\n",
    "import math"
   ]
  },
  {
   "cell_type": "code",
   "execution_count": 2,
   "metadata": {},
   "outputs": [],
   "source": []
  },
  {
   "cell_type": "code",
   "execution_count": null,
   "metadata": {},
   "outputs": [],
   "source": []
  },
  {
   "cell_type": "code",
   "execution_count": 3,
   "metadata": {},
   "outputs": [],
   "source": [
    "variables = ['disc_qcd_and_ttbar_Run2_enhanced_v8p2','fatJet2MassSD']\n",
    "id_variables = ['run','event']"
   ]
  },
  {
   "cell_type": "code",
   "execution_count": 4,
   "metadata": {},
   "outputs": [],
   "source": [
    "def convert(tree):\n",
    "    feature = tree2array(tree,\n",
    "                        branches = id_variables+ variables,\n",
    "                         selection = 'fatJet2MassSD >110.0 & fatJet2MassSD < 130.')\n",
    "    return feature"
   ]
  },
  {
   "cell_type": "code",
   "execution_count": 14,
   "metadata": {},
   "outputs": [],
   "source": [
    "def convert_ntuple_dataframe(path, filename,treename):\n",
    "    rootfile = rt.TFile.Open(path+filename)\n",
    "    tree = rootfile.Get(treename)\n",
    "    np =convert(tree)\n",
    "    dataframe = pd.DataFrame.from_records(np)\n",
    "    return dataframe"
   ]
  },
  {
   "cell_type": "code",
   "execution_count": 6,
   "metadata": {},
   "outputs": [
    {
     "name": "stdout",
     "output_type": "stream",
     "text": [
      "JetHT_2016B-ver2_BDTs.root\n",
      "JetHT_2016D_BDTs.root\n",
      "JetHT_2016F_BDTs.root\n",
      "JetHT_2016H_BDTs.root\n",
      "JetHT_2016C_BDTs.root\n",
      "JetHT_2016E_BDTs.root\n",
      "JetHT_2016G_BDTs.root\n"
     ]
    }
   ],
   "source": [
    "path='/storage/af/user/nlu/work/HH/ntuples/20210510_regression/option5/combined/BDT/2016/data/'\n",
    "data_File0='JetHT_2016B-ver2_BDTs.root'\n",
    "data_File1='JetHT_2016D_BDTs.root'\n",
    "data_File2='JetHT_2016F_BDTs.root'\n",
    "data_File3='JetHT_2016H_BDTs.root'\n",
    "data_File4='JetHT_2016C_BDTs.root'\n",
    "data_File5='JetHT_2016E_BDTs.root'\n",
    "data_File6='JetHT_2016G_BDTs.root' #'data2018Snapshot.root'\n",
    "\n",
    "files=[data_File0, data_File1, data_File2, data_File3, data_File4, data_File5, data_File6]\n",
    "\n",
    "dfs = []\n",
    "for i in range(len(files)):\n",
    "    ifile=files[i]\n",
    "    print(ifile)\n",
    "    dfs.append(convert_ntuple_dataframe(path,ifile,\"Events\"))\n",
    "    #print(dfs[i])"
   ]
  },
  {
   "cell_type": "code",
   "execution_count": 17,
   "metadata": {},
   "outputs": [
    {
     "name": "stdout",
     "output_type": "stream",
     "text": [
      "JetHT_2016B-ver2_BDTs.root\n",
      "<cppyy.gbl.TObject object at 0x(nil)>\n"
     ]
    },
    {
     "ename": "TypeError",
     "evalue": "tree must be a ROOT.TTree",
     "output_type": "error",
     "traceback": [
      "\u001b[0;31m---------------------------------------------------------------------------\u001b[0m",
      "\u001b[0;31mTypeError\u001b[0m                                 Traceback (most recent call last)",
      "\u001b[0;32m<ipython-input-17-de961d03c0e8>\u001b[0m in \u001b[0;36m<module>\u001b[0;34m\u001b[0m\n\u001b[1;32m      5\u001b[0m     \u001b[0mifile\u001b[0m\u001b[0;34m=\u001b[0m\u001b[0mfiles\u001b[0m\u001b[0;34m[\u001b[0m\u001b[0mi\u001b[0m\u001b[0;34m]\u001b[0m\u001b[0;34m\u001b[0m\u001b[0;34m\u001b[0m\u001b[0m\n\u001b[1;32m      6\u001b[0m     \u001b[0mprint\u001b[0m\u001b[0;34m(\u001b[0m\u001b[0mifile\u001b[0m\u001b[0;34m)\u001b[0m\u001b[0;34m\u001b[0m\u001b[0;34m\u001b[0m\u001b[0m\n\u001b[0;32m----> 7\u001b[0;31m     \u001b[0mdfs_old\u001b[0m\u001b[0;34m.\u001b[0m\u001b[0mappend\u001b[0m\u001b[0;34m(\u001b[0m\u001b[0mconvert_ntuple_dataframe\u001b[0m\u001b[0;34m(\u001b[0m\u001b[0mpath\u001b[0m\u001b[0;34m,\u001b[0m\u001b[0mifile\u001b[0m\u001b[0;34m,\u001b[0m\u001b[0;34m\"\"\u001b[0m\u001b[0;34m)\u001b[0m\u001b[0;34m)\u001b[0m\u001b[0;34m\u001b[0m\u001b[0;34m\u001b[0m\u001b[0m\n\u001b[0m\u001b[1;32m      8\u001b[0m     \u001b[0;31m#print(dfs[i])\u001b[0m\u001b[0;34m\u001b[0m\u001b[0;34m\u001b[0m\u001b[0;34m\u001b[0m\u001b[0m\n\u001b[1;32m      9\u001b[0m \u001b[0;34m\u001b[0m\u001b[0m\n",
      "\u001b[0;32m<ipython-input-14-461056291655>\u001b[0m in \u001b[0;36mconvert_ntuple_dataframe\u001b[0;34m(path, filename, treename)\u001b[0m\n\u001b[1;32m      3\u001b[0m     \u001b[0mtree\u001b[0m \u001b[0;34m=\u001b[0m \u001b[0mrootfile\u001b[0m\u001b[0;34m.\u001b[0m\u001b[0mGet\u001b[0m\u001b[0;34m(\u001b[0m\u001b[0mtreename\u001b[0m\u001b[0;34m)\u001b[0m\u001b[0;34m\u001b[0m\u001b[0;34m\u001b[0m\u001b[0m\n\u001b[1;32m      4\u001b[0m     \u001b[0mprint\u001b[0m\u001b[0;34m(\u001b[0m\u001b[0mtree\u001b[0m\u001b[0;34m)\u001b[0m\u001b[0;34m\u001b[0m\u001b[0;34m\u001b[0m\u001b[0m\n\u001b[0;32m----> 5\u001b[0;31m     \u001b[0mnp\u001b[0m \u001b[0;34m=\u001b[0m\u001b[0mconvert\u001b[0m\u001b[0;34m(\u001b[0m\u001b[0mtree\u001b[0m\u001b[0;34m)\u001b[0m\u001b[0;34m\u001b[0m\u001b[0;34m\u001b[0m\u001b[0m\n\u001b[0m\u001b[1;32m      6\u001b[0m     \u001b[0mdataframe\u001b[0m \u001b[0;34m=\u001b[0m \u001b[0mpd\u001b[0m\u001b[0;34m.\u001b[0m\u001b[0mDataFrame\u001b[0m\u001b[0;34m.\u001b[0m\u001b[0mfrom_records\u001b[0m\u001b[0;34m(\u001b[0m\u001b[0mnp\u001b[0m\u001b[0;34m)\u001b[0m\u001b[0;34m\u001b[0m\u001b[0;34m\u001b[0m\u001b[0m\n\u001b[1;32m      7\u001b[0m     \u001b[0;32mreturn\u001b[0m \u001b[0mdataframe\u001b[0m\u001b[0;34m\u001b[0m\u001b[0;34m\u001b[0m\u001b[0m\n",
      "\u001b[0;32m<ipython-input-4-373eff60d89d>\u001b[0m in \u001b[0;36mconvert\u001b[0;34m(tree)\u001b[0m\n\u001b[1;32m      2\u001b[0m     feature = tree2array(tree,\n\u001b[1;32m      3\u001b[0m                         \u001b[0mbranches\u001b[0m \u001b[0;34m=\u001b[0m \u001b[0mid_variables\u001b[0m\u001b[0;34m+\u001b[0m \u001b[0mvariables\u001b[0m\u001b[0;34m,\u001b[0m\u001b[0;34m\u001b[0m\u001b[0;34m\u001b[0m\u001b[0m\n\u001b[0;32m----> 4\u001b[0;31m                          selection = 'fatJet2MassSD >110.0 & fatJet2MassSD < 130.')\n\u001b[0m\u001b[1;32m      5\u001b[0m     \u001b[0;32mreturn\u001b[0m \u001b[0mfeature\u001b[0m\u001b[0;34m\u001b[0m\u001b[0;34m\u001b[0m\u001b[0m\n",
      "\u001b[0;32m/usr/local/lib64/python3.6/site-packages/root_numpy/_tree.py\u001b[0m in \u001b[0;36mtree2array\u001b[0;34m(tree, branches, selection, object_selection, start, stop, step, include_weight, weight_name, cache_size)\u001b[0m\n\u001b[1;32m    410\u001b[0m     \u001b[0;32mimport\u001b[0m \u001b[0mROOT\u001b[0m\u001b[0;34m\u001b[0m\u001b[0;34m\u001b[0m\u001b[0m\n\u001b[1;32m    411\u001b[0m     \u001b[0;32mif\u001b[0m \u001b[0;32mnot\u001b[0m \u001b[0misinstance\u001b[0m\u001b[0;34m(\u001b[0m\u001b[0mtree\u001b[0m\u001b[0;34m,\u001b[0m \u001b[0mROOT\u001b[0m\u001b[0;34m.\u001b[0m\u001b[0mTTree\u001b[0m\u001b[0;34m)\u001b[0m\u001b[0;34m:\u001b[0m\u001b[0;34m\u001b[0m\u001b[0;34m\u001b[0m\u001b[0m\n\u001b[0;32m--> 412\u001b[0;31m         \u001b[0;32mraise\u001b[0m \u001b[0mTypeError\u001b[0m\u001b[0;34m(\u001b[0m\u001b[0;34m\"tree must be a ROOT.TTree\"\u001b[0m\u001b[0;34m)\u001b[0m\u001b[0;34m\u001b[0m\u001b[0;34m\u001b[0m\u001b[0m\n\u001b[0m\u001b[1;32m    413\u001b[0m     \u001b[0mcobj\u001b[0m \u001b[0;34m=\u001b[0m \u001b[0mROOT\u001b[0m\u001b[0;34m.\u001b[0m\u001b[0mAsCObject\u001b[0m\u001b[0;34m(\u001b[0m\u001b[0mtree\u001b[0m\u001b[0;34m)\u001b[0m\u001b[0;34m\u001b[0m\u001b[0;34m\u001b[0m\u001b[0m\n\u001b[1;32m    414\u001b[0m \u001b[0;34m\u001b[0m\u001b[0m\n",
      "\u001b[0;31mTypeError\u001b[0m: tree must be a ROOT.TTree"
     ]
    }
   ],
   "source": [
    "path_old='/storage/af/user/nlu/work/HH/ntuples/20210403/option5/combined/BDT/2016/data/'\n",
    "\n",
    "dfs_old = []\n",
    "for i in range(len(files)):\n",
    "    ifile=files[i]\n",
    "    print(ifile)\n",
    "    dfs_old.append(convert_ntuple_dataframe(path,ifile,\"\"))\n",
    "    #print(dfs[i])\n",
    "    \n",
    "#mc_frame = pd.concat(mc_frame)"
   ]
  },
  {
   "cell_type": "code",
   "execution_count": 10,
   "metadata": {},
   "outputs": [
    {
     "name": "stdout",
     "output_type": "stream",
     "text": [
      "2302\n",
      "Pisa only event: event run DNN_score 1041077533   278167   0.023636464\n",
      "Pisa only event: event run DNN_score 393868403   275658   0.04670642\n",
      "2\n"
     ]
    }
   ],
   "source": [
    "#2016\n",
    "nevt = len(dfs[0]['event'])\n",
    "print(nevt)\n",
    "count=0\n",
    "for ievt in range(nevt):\n",
    "    #print(dfs[0]['event'][ievt])\n",
    "    checkdf=mc_frame.loc[mc_frame['event'] == dfs[0]['event'][ievt]]\n",
    "    if len(checkdf)==0:\n",
    "        count+=1\n",
    "        print(\"Pisa only event: event run DNN_score\",dfs[0]['event'][ievt],\" \",dfs[0]['run'][ievt],\" \",dfs[0]['DNN18Classifier'][ievt])\n",
    "print(count)"
   ]
  },
  {
   "cell_type": "code",
   "execution_count": 8,
   "metadata": {},
   "outputs": [
    {
     "name": "stdout",
     "output_type": "stream",
     "text": [
      "2302 2310\n",
      "Caltech only event: event run 1794823977.0   276831.0   0.22571516036987305\n",
      "Caltech only event: event run 381566794.0   282919.0   0.20722731947898865\n",
      "Caltech only event: event run 339667421.0   276775.0   0.526170015335083\n",
      "Caltech only event: event run 2040583636.0   283820.0   0.9578363299369812\n",
      "Caltech only event: event run 78974643.0   278274.0   0.566644549369812\n",
      "Caltech only event: event run 590892261.0   277069.0   0.21483024954795837\n",
      "Caltech only event: event run 208589957.0   283933.0   0.012378043495118618\n",
      "Caltech only event: event run 4253117692.0   276870.0   0.21695661544799805\n",
      "Caltech only event: event run 446586196.0   278017.0   0.10413651168346405\n",
      "Caltech only event: event run 848146959.0   278345.0   0.07369925081729889\n",
      "10\n"
     ]
    }
   ],
   "source": [
    "#2016\n",
    "Pisa_frame=dfs[0]\n",
    "print(len(Pisa_frame['event']),len(mc_frame['event']))\n",
    "nevt = len(mc_frame['event'])\n",
    "count=0\n",
    "for ievt in range(nevt):\n",
    "    #print(ievt)\n",
    "    #print(\"check\",mc_frame.iloc[ievt]['event'])\n",
    "    #print(\"test\",Pisa_frame['event'])\n",
    "    #checkdf=mc_frame.loc[mc_frame['event'] == dfs[0]['event'][ievt]]\n",
    "    checkdf=Pisa_frame.loc[Pisa_frame['event']==mc_frame.iloc[ievt]['event']] \n",
    "    if len(checkdf)==0:\n",
    "        count+=1\n",
    "        print(\"Caltech only event: event run\",mc_frame.iloc[ievt]['event'],\" \",mc_frame.iloc[ievt]['run'],\" \",mc_frame.iloc[ievt]['dnnPisa_pred_125'])\n",
    "print(count)"
   ]
  },
  {
   "cell_type": "code",
   "execution_count": 27,
   "metadata": {},
   "outputs": [
    {
     "name": "stdout",
     "output_type": "stream",
     "text": [
      "Pisa only event: event run  290963744   276807   0.07756814\n",
      "Pisa only event: event run  1004968056   283830   0.16846794\n",
      "Pisa only event: event run  393868403   275658   0.04670642\n",
      "Pisa only event: event run  144544081   281641   0.056312893\n",
      "Pisa only event: event run  1962410941   278509   0.10526847\n",
      "Pisa only event: event run  214680346   273450   0.066006176\n",
      "Pisa only event: event run  784420719   281727   0.72809905\n",
      "Pisa only event: event run  1175770809   282037   0.3574111\n",
      "Pisa only event: event run  2065509843   282037   0.9470561\n",
      "Pisa only event: event run  1108234428   281727   0.2837379\n",
      "Pisa only event: event run  918169014   281797   0.0020272546\n",
      "Pisa only event: event run  117047186   282800   0.5538126\n",
      "Pisa only event: event run  92273595   277096   0.007899559\n",
      "Pisa only event: event run  396328398   283478   0.050768886\n",
      "Pisa only event: event run  319145439   278239   0.20439252\n",
      "Pisa only event: event run  4347236055   276831   0.18017884\n",
      "Pisa only event: event run  4446949854   276525   0.8983011\n",
      "Pisa only event: event run  100468334   283407   0.011007443\n",
      "Pisa only event: event run  396285155   278345   0.21776985\n",
      "Pisa only event: event run  1464046016   276437   0.3111615\n",
      "Pisa only event: event run  248051354   278017   0.07232242\n",
      "Pisa only event: event run  1077025550   283865   0.021467771\n",
      "Pisa only event: event run  1965370546   281693   0.19308749\n",
      "Pisa only event: event run  1041077533   278167   0.023636464\n",
      "Pisa only event: event run  2815687859   275310   0.55187196\n",
      "Pisa only event: event run  2277554349   281693   0.047416687\n",
      "Pisa only event: event run  208011994   274422   0.13351235\n",
      "Pisa only event: event run  895581031   275073   0.9398176\n",
      "Pisa only event: event run  2084643659   274388   0.3453823\n",
      "Pisa only event: event run  364217210   278770   0.27118987\n",
      "Pisa only event: event run  2294866930   278808   0.8991367\n",
      "Pisa only event: event run  379485924   275375   0.22971062\n",
      "Pisa only event: event run  3045963473   283270   0.37119794\n",
      "Pisa only event: event run  201898030   279071   0.0926828\n",
      "Pisa only event: event run  1566087110   282814   0.76832944\n",
      "Pisa only event: event run  1069403523   279694   0.015369645\n",
      "Pisa only event: event run  1580966740   279588   0.8628024\n",
      "37\n"
     ]
    }
   ],
   "source": [
    "nevt = len(dfs[0]['event'])\n",
    "count=0\n",
    "for ievt in range(nevt):\n",
    "    #print(dfs[0]['event'][ievt])\n",
    "    checkdf=mc_frame.loc[mc_frame['event'] == dfs[0]['event'][ievt]]\n",
    "    if len(checkdf)==0:\n",
    "        count+=1\n",
    "        print(\"Pisa only event: event run \",dfs[0]['event'][ievt],\" \",dfs[0]['run'][ievt],\" \",dfs[0]['DNN18Classifier'][ievt])\n",
    "print(count)"
   ]
  },
  {
   "cell_type": "code",
   "execution_count": null,
   "metadata": {},
   "outputs": [],
   "source": []
  },
  {
   "cell_type": "code",
   "execution_count": null,
   "metadata": {},
   "outputs": [],
   "source": []
  },
  {
   "cell_type": "code",
   "execution_count": null,
   "metadata": {},
   "outputs": [],
   "source": []
  },
  {
   "cell_type": "code",
   "execution_count": null,
   "metadata": {},
   "outputs": [],
   "source": []
  },
  {
   "cell_type": "code",
   "execution_count": null,
   "metadata": {},
   "outputs": [],
   "source": []
  },
  {
   "cell_type": "code",
   "execution_count": null,
   "metadata": {},
   "outputs": [],
   "source": []
  },
  {
   "cell_type": "code",
   "execution_count": null,
   "metadata": {},
   "outputs": [],
   "source": []
  },
  {
   "cell_type": "code",
   "execution_count": null,
   "metadata": {},
   "outputs": [],
   "source": []
  },
  {
   "cell_type": "code",
   "execution_count": null,
   "metadata": {},
   "outputs": [],
   "source": []
  },
  {
   "cell_type": "code",
   "execution_count": null,
   "metadata": {},
   "outputs": [],
   "source": []
  },
  {
   "cell_type": "code",
   "execution_count": null,
   "metadata": {},
   "outputs": [],
   "source": []
  },
  {
   "cell_type": "code",
   "execution_count": null,
   "metadata": {},
   "outputs": [],
   "source": []
  },
  {
   "cell_type": "code",
   "execution_count": null,
   "metadata": {},
   "outputs": [],
   "source": []
  },
  {
   "cell_type": "code",
   "execution_count": null,
   "metadata": {},
   "outputs": [],
   "source": []
  },
  {
   "cell_type": "code",
   "execution_count": null,
   "metadata": {},
   "outputs": [],
   "source": []
  },
  {
   "cell_type": "code",
   "execution_count": null,
   "metadata": {},
   "outputs": [],
   "source": []
  },
  {
   "cell_type": "code",
   "execution_count": null,
   "metadata": {},
   "outputs": [],
   "source": []
  }
 ],
 "metadata": {
  "kernelspec": {
   "display_name": "Python 3",
   "language": "python",
   "name": "python3"
  },
  "language_info": {
   "codemirror_mode": {
    "name": "ipython",
    "version": 3
   },
   "file_extension": ".py",
   "mimetype": "text/x-python",
   "name": "python",
   "nbconvert_exporter": "python",
   "pygments_lexer": "ipython3",
   "version": "3.6.8"
  }
 },
 "nbformat": 4,
 "nbformat_minor": 4
}
